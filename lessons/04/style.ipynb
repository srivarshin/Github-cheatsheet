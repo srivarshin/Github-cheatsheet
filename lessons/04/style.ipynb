{
  "cells": [
    {
      "cell_type": "markdown",
      "metadata": {
        "id": "NghESogX2hMn"
      },
      "source": [
        "# 4. Style\n",
        "\n",
        "<hr />"
      ]
    },
    {
      "cell_type": "code",
      "execution_count": 26,
      "metadata": {
        "nbsphinx": "hidden",
        "tags": [],
        "colab": {
          "base_uri": "https://localhost:8080/"
        },
        "id": "9HGPnWHk2hMp",
        "outputId": "9792deec-030b-437b-cff1-6446de6594e3"
      },
      "outputs": [
        {
          "output_type": "stream",
          "name": "stdout",
          "text": [
            "Requirement already satisfied: pdfplumber in /usr/local/lib/python3.12/dist-packages (0.11.7)\n",
            "Requirement already satisfied: pytesseract in /usr/local/lib/python3.12/dist-packages (0.3.13)\n",
            "Requirement already satisfied: pillow in /usr/local/lib/python3.12/dist-packages (11.3.0)\n",
            "Requirement already satisfied: pdf2image in /usr/local/lib/python3.12/dist-packages (1.17.0)\n",
            "Requirement already satisfied: pdfminer.six==20250506 in /usr/local/lib/python3.12/dist-packages (from pdfplumber) (20250506)\n",
            "Requirement already satisfied: pypdfium2>=4.18.0 in /usr/local/lib/python3.12/dist-packages (from pdfplumber) (4.30.0)\n",
            "Requirement already satisfied: charset-normalizer>=2.0.0 in /usr/local/lib/python3.12/dist-packages (from pdfminer.six==20250506->pdfplumber) (3.4.3)\n",
            "Requirement already satisfied: cryptography>=36.0.0 in /usr/local/lib/python3.12/dist-packages (from pdfminer.six==20250506->pdfplumber) (43.0.3)\n",
            "Requirement already satisfied: packaging>=21.3 in /usr/local/lib/python3.12/dist-packages (from pytesseract) (25.0)\n",
            "Requirement already satisfied: cffi>=1.12 in /usr/local/lib/python3.12/dist-packages (from cryptography>=36.0.0->pdfminer.six==20250506->pdfplumber) (1.17.1)\n",
            "Requirement already satisfied: pycparser in /usr/local/lib/python3.12/dist-packages (from cffi>=1.12->cryptography>=36.0.0->pdfminer.six==20250506->pdfplumber) (2.22)\n",
            "Reading package lists... Done\n",
            "Building dependency tree... Done\n",
            "Reading state information... Done\n",
            "tesseract-ocr is already the newest version (4.1.1-2.1build1).\n",
            "poppler-utils is already the newest version (22.02.0-2ubuntu0.10).\n",
            "0 upgraded, 0 newly installed, 0 to remove and 35 not upgraded.\n"
          ]
        }
      ],
      "source": [
        "!pip install pdfplumber pytesseract pillow pdf2image\n",
        "!apt-get install -y tesseract-ocr poppler-utils\n"
      ]
    },
    {
      "cell_type": "code",
      "execution_count": 27,
      "metadata": {
        "colab": {
          "base_uri": "https://localhost:8080/"
        },
        "id": "NVW5KWr82hMq",
        "outputId": "8fb811fb-ea61-4579-ed71-46c421b0386d"
      },
      "outputs": [
        {
          "output_type": "stream",
          "name": "stdout",
          "text": [
            "Requirement already satisfied: blackcellmagic in /usr/local/lib/python3.12/dist-packages (0.0.3)\n",
            "Requirement already satisfied: black<22.0,>=21.9b0 in /usr/local/lib/python3.12/dist-packages (from blackcellmagic) (21.12b0)\n",
            "Requirement already satisfied: jupyter<2.0.0,>=1.0.0 in /usr/local/lib/python3.12/dist-packages (from blackcellmagic) (1.1.1)\n",
            "Requirement already satisfied: click>=7.1.2 in /usr/local/lib/python3.12/dist-packages (from black<22.0,>=21.9b0->blackcellmagic) (8.2.1)\n",
            "Requirement already satisfied: platformdirs>=2 in /usr/local/lib/python3.12/dist-packages (from black<22.0,>=21.9b0->blackcellmagic) (4.3.8)\n",
            "Requirement already satisfied: tomli<2.0.0,>=0.2.6 in /usr/local/lib/python3.12/dist-packages (from black<22.0,>=21.9b0->blackcellmagic) (1.2.3)\n",
            "Requirement already satisfied: pathspec<1,>=0.9.0 in /usr/local/lib/python3.12/dist-packages (from black<22.0,>=21.9b0->blackcellmagic) (0.12.1)\n",
            "Requirement already satisfied: typing-extensions>=3.10.0.0 in /usr/local/lib/python3.12/dist-packages (from black<22.0,>=21.9b0->blackcellmagic) (4.15.0)\n",
            "Requirement already satisfied: mypy-extensions>=0.4.3 in /usr/local/lib/python3.12/dist-packages (from black<22.0,>=21.9b0->blackcellmagic) (1.1.0)\n",
            "Requirement already satisfied: notebook in /usr/local/lib/python3.12/dist-packages (from jupyter<2.0.0,>=1.0.0->blackcellmagic) (6.5.7)\n",
            "Requirement already satisfied: jupyter-console in /usr/local/lib/python3.12/dist-packages (from jupyter<2.0.0,>=1.0.0->blackcellmagic) (6.1.0)\n",
            "Requirement already satisfied: nbconvert in /usr/local/lib/python3.12/dist-packages (from jupyter<2.0.0,>=1.0.0->blackcellmagic) (7.16.6)\n",
            "Requirement already satisfied: ipykernel in /usr/local/lib/python3.12/dist-packages (from jupyter<2.0.0,>=1.0.0->blackcellmagic) (6.17.1)\n",
            "Requirement already satisfied: ipywidgets in /usr/local/lib/python3.12/dist-packages (from jupyter<2.0.0,>=1.0.0->blackcellmagic) (7.7.1)\n",
            "Requirement already satisfied: jupyterlab in /usr/local/lib/python3.12/dist-packages (from jupyter<2.0.0,>=1.0.0->blackcellmagic) (4.4.6)\n",
            "Requirement already satisfied: debugpy>=1.0 in /usr/local/lib/python3.12/dist-packages (from ipykernel->jupyter<2.0.0,>=1.0.0->blackcellmagic) (1.8.15)\n",
            "Requirement already satisfied: ipython>=7.23.1 in /usr/local/lib/python3.12/dist-packages (from ipykernel->jupyter<2.0.0,>=1.0.0->blackcellmagic) (7.34.0)\n",
            "Requirement already satisfied: jupyter-client>=6.1.12 in /usr/local/lib/python3.12/dist-packages (from ipykernel->jupyter<2.0.0,>=1.0.0->blackcellmagic) (7.4.9)\n",
            "Requirement already satisfied: matplotlib-inline>=0.1 in /usr/local/lib/python3.12/dist-packages (from ipykernel->jupyter<2.0.0,>=1.0.0->blackcellmagic) (0.1.7)\n",
            "Requirement already satisfied: nest-asyncio in /usr/local/lib/python3.12/dist-packages (from ipykernel->jupyter<2.0.0,>=1.0.0->blackcellmagic) (1.6.0)\n",
            "Requirement already satisfied: packaging in /usr/local/lib/python3.12/dist-packages (from ipykernel->jupyter<2.0.0,>=1.0.0->blackcellmagic) (25.0)\n",
            "Requirement already satisfied: psutil in /usr/local/lib/python3.12/dist-packages (from ipykernel->jupyter<2.0.0,>=1.0.0->blackcellmagic) (5.9.5)\n",
            "Requirement already satisfied: pyzmq>=17 in /usr/local/lib/python3.12/dist-packages (from ipykernel->jupyter<2.0.0,>=1.0.0->blackcellmagic) (26.2.1)\n",
            "Requirement already satisfied: tornado>=6.1 in /usr/local/lib/python3.12/dist-packages (from ipykernel->jupyter<2.0.0,>=1.0.0->blackcellmagic) (6.4.2)\n",
            "Requirement already satisfied: traitlets>=5.1.0 in /usr/local/lib/python3.12/dist-packages (from ipykernel->jupyter<2.0.0,>=1.0.0->blackcellmagic) (5.7.1)\n",
            "Requirement already satisfied: ipython-genutils~=0.2.0 in /usr/local/lib/python3.12/dist-packages (from ipywidgets->jupyter<2.0.0,>=1.0.0->blackcellmagic) (0.2.0)\n",
            "Requirement already satisfied: widgetsnbextension~=3.6.0 in /usr/local/lib/python3.12/dist-packages (from ipywidgets->jupyter<2.0.0,>=1.0.0->blackcellmagic) (3.6.10)\n",
            "Requirement already satisfied: jupyterlab-widgets>=1.0.0 in /usr/local/lib/python3.12/dist-packages (from ipywidgets->jupyter<2.0.0,>=1.0.0->blackcellmagic) (3.0.15)\n",
            "Requirement already satisfied: prompt-toolkit!=3.0.0,!=3.0.1,<3.1.0,>=2.0.0 in /usr/local/lib/python3.12/dist-packages (from jupyter-console->jupyter<2.0.0,>=1.0.0->blackcellmagic) (3.0.51)\n",
            "Requirement already satisfied: pygments in /usr/local/lib/python3.12/dist-packages (from jupyter-console->jupyter<2.0.0,>=1.0.0->blackcellmagic) (2.19.2)\n",
            "Requirement already satisfied: async-lru>=1.0.0 in /usr/local/lib/python3.12/dist-packages (from jupyterlab->jupyter<2.0.0,>=1.0.0->blackcellmagic) (2.0.5)\n",
            "Requirement already satisfied: httpx<1,>=0.25.0 in /usr/local/lib/python3.12/dist-packages (from jupyterlab->jupyter<2.0.0,>=1.0.0->blackcellmagic) (0.28.1)\n",
            "Requirement already satisfied: jinja2>=3.0.3 in /usr/local/lib/python3.12/dist-packages (from jupyterlab->jupyter<2.0.0,>=1.0.0->blackcellmagic) (3.1.6)\n",
            "Requirement already satisfied: jupyter-core in /usr/local/lib/python3.12/dist-packages (from jupyterlab->jupyter<2.0.0,>=1.0.0->blackcellmagic) (5.8.1)\n",
            "Requirement already satisfied: jupyter-lsp>=2.0.0 in /usr/local/lib/python3.12/dist-packages (from jupyterlab->jupyter<2.0.0,>=1.0.0->blackcellmagic) (2.3.0)\n",
            "Requirement already satisfied: jupyter-server<3,>=2.4.0 in /usr/local/lib/python3.12/dist-packages (from jupyterlab->jupyter<2.0.0,>=1.0.0->blackcellmagic) (2.17.0)\n",
            "Requirement already satisfied: jupyterlab-server<3,>=2.27.1 in /usr/local/lib/python3.12/dist-packages (from jupyterlab->jupyter<2.0.0,>=1.0.0->blackcellmagic) (2.27.3)\n",
            "Requirement already satisfied: notebook-shim>=0.2 in /usr/local/lib/python3.12/dist-packages (from jupyterlab->jupyter<2.0.0,>=1.0.0->blackcellmagic) (0.2.4)\n",
            "Requirement already satisfied: setuptools>=41.1.0 in /usr/local/lib/python3.12/dist-packages (from jupyterlab->jupyter<2.0.0,>=1.0.0->blackcellmagic) (75.2.0)\n",
            "Requirement already satisfied: beautifulsoup4 in /usr/local/lib/python3.12/dist-packages (from nbconvert->jupyter<2.0.0,>=1.0.0->blackcellmagic) (4.13.5)\n",
            "Requirement already satisfied: bleach!=5.0.0 in /usr/local/lib/python3.12/dist-packages (from bleach[css]!=5.0.0->nbconvert->jupyter<2.0.0,>=1.0.0->blackcellmagic) (6.2.0)\n",
            "Requirement already satisfied: defusedxml in /usr/local/lib/python3.12/dist-packages (from nbconvert->jupyter<2.0.0,>=1.0.0->blackcellmagic) (0.7.1)\n",
            "Requirement already satisfied: jupyterlab-pygments in /usr/local/lib/python3.12/dist-packages (from nbconvert->jupyter<2.0.0,>=1.0.0->blackcellmagic) (0.3.0)\n",
            "Requirement already satisfied: markupsafe>=2.0 in /usr/local/lib/python3.12/dist-packages (from nbconvert->jupyter<2.0.0,>=1.0.0->blackcellmagic) (3.0.2)\n",
            "Requirement already satisfied: mistune<4,>=2.0.3 in /usr/local/lib/python3.12/dist-packages (from nbconvert->jupyter<2.0.0,>=1.0.0->blackcellmagic) (3.1.3)\n",
            "Requirement already satisfied: nbclient>=0.5.0 in /usr/local/lib/python3.12/dist-packages (from nbconvert->jupyter<2.0.0,>=1.0.0->blackcellmagic) (0.10.2)\n",
            "Requirement already satisfied: nbformat>=5.7 in /usr/local/lib/python3.12/dist-packages (from nbconvert->jupyter<2.0.0,>=1.0.0->blackcellmagic) (5.10.4)\n",
            "Requirement already satisfied: pandocfilters>=1.4.1 in /usr/local/lib/python3.12/dist-packages (from nbconvert->jupyter<2.0.0,>=1.0.0->blackcellmagic) (1.5.1)\n",
            "Requirement already satisfied: argon2-cffi in /usr/local/lib/python3.12/dist-packages (from notebook->jupyter<2.0.0,>=1.0.0->blackcellmagic) (25.1.0)\n",
            "Requirement already satisfied: Send2Trash>=1.8.0 in /usr/local/lib/python3.12/dist-packages (from notebook->jupyter<2.0.0,>=1.0.0->blackcellmagic) (1.8.3)\n",
            "Requirement already satisfied: terminado>=0.8.3 in /usr/local/lib/python3.12/dist-packages (from notebook->jupyter<2.0.0,>=1.0.0->blackcellmagic) (0.18.1)\n",
            "Requirement already satisfied: prometheus-client in /usr/local/lib/python3.12/dist-packages (from notebook->jupyter<2.0.0,>=1.0.0->blackcellmagic) (0.22.1)\n",
            "Requirement already satisfied: nbclassic>=0.4.7 in /usr/local/lib/python3.12/dist-packages (from notebook->jupyter<2.0.0,>=1.0.0->blackcellmagic) (1.3.1)\n",
            "Requirement already satisfied: webencodings in /usr/local/lib/python3.12/dist-packages (from bleach!=5.0.0->bleach[css]!=5.0.0->nbconvert->jupyter<2.0.0,>=1.0.0->blackcellmagic) (0.5.1)\n",
            "Requirement already satisfied: tinycss2<1.5,>=1.1.0 in /usr/local/lib/python3.12/dist-packages (from bleach[css]!=5.0.0->nbconvert->jupyter<2.0.0,>=1.0.0->blackcellmagic) (1.4.0)\n",
            "Requirement already satisfied: anyio in /usr/local/lib/python3.12/dist-packages (from httpx<1,>=0.25.0->jupyterlab->jupyter<2.0.0,>=1.0.0->blackcellmagic) (4.10.0)\n",
            "Requirement already satisfied: certifi in /usr/local/lib/python3.12/dist-packages (from httpx<1,>=0.25.0->jupyterlab->jupyter<2.0.0,>=1.0.0->blackcellmagic) (2025.8.3)\n",
            "Requirement already satisfied: httpcore==1.* in /usr/local/lib/python3.12/dist-packages (from httpx<1,>=0.25.0->jupyterlab->jupyter<2.0.0,>=1.0.0->blackcellmagic) (1.0.9)\n",
            "Requirement already satisfied: idna in /usr/local/lib/python3.12/dist-packages (from httpx<1,>=0.25.0->jupyterlab->jupyter<2.0.0,>=1.0.0->blackcellmagic) (3.10)\n",
            "Requirement already satisfied: h11>=0.16 in /usr/local/lib/python3.12/dist-packages (from httpcore==1.*->httpx<1,>=0.25.0->jupyterlab->jupyter<2.0.0,>=1.0.0->blackcellmagic) (0.16.0)\n",
            "Requirement already satisfied: jedi>=0.16 in /usr/local/lib/python3.12/dist-packages (from ipython>=7.23.1->ipykernel->jupyter<2.0.0,>=1.0.0->blackcellmagic) (0.19.2)\n",
            "Requirement already satisfied: decorator in /usr/local/lib/python3.12/dist-packages (from ipython>=7.23.1->ipykernel->jupyter<2.0.0,>=1.0.0->blackcellmagic) (4.4.2)\n",
            "Requirement already satisfied: pickleshare in /usr/local/lib/python3.12/dist-packages (from ipython>=7.23.1->ipykernel->jupyter<2.0.0,>=1.0.0->blackcellmagic) (0.7.5)\n",
            "Requirement already satisfied: backcall in /usr/local/lib/python3.12/dist-packages (from ipython>=7.23.1->ipykernel->jupyter<2.0.0,>=1.0.0->blackcellmagic) (0.2.0)\n",
            "Requirement already satisfied: pexpect>4.3 in /usr/local/lib/python3.12/dist-packages (from ipython>=7.23.1->ipykernel->jupyter<2.0.0,>=1.0.0->blackcellmagic) (4.9.0)\n",
            "Requirement already satisfied: entrypoints in /usr/local/lib/python3.12/dist-packages (from jupyter-client>=6.1.12->ipykernel->jupyter<2.0.0,>=1.0.0->blackcellmagic) (0.4)\n",
            "Requirement already satisfied: python-dateutil>=2.8.2 in /usr/local/lib/python3.12/dist-packages (from jupyter-client>=6.1.12->ipykernel->jupyter<2.0.0,>=1.0.0->blackcellmagic) (2.9.0.post0)\n",
            "Requirement already satisfied: jupyter-events>=0.11.0 in /usr/local/lib/python3.12/dist-packages (from jupyter-server<3,>=2.4.0->jupyterlab->jupyter<2.0.0,>=1.0.0->blackcellmagic) (0.12.0)\n",
            "Requirement already satisfied: jupyter-server-terminals>=0.4.4 in /usr/local/lib/python3.12/dist-packages (from jupyter-server<3,>=2.4.0->jupyterlab->jupyter<2.0.0,>=1.0.0->blackcellmagic) (0.5.3)\n",
            "Requirement already satisfied: websocket-client>=1.7 in /usr/local/lib/python3.12/dist-packages (from jupyter-server<3,>=2.4.0->jupyterlab->jupyter<2.0.0,>=1.0.0->blackcellmagic) (1.8.0)\n",
            "Requirement already satisfied: argon2-cffi-bindings in /usr/local/lib/python3.12/dist-packages (from argon2-cffi->notebook->jupyter<2.0.0,>=1.0.0->blackcellmagic) (25.1.0)\n",
            "Requirement already satisfied: babel>=2.10 in /usr/local/lib/python3.12/dist-packages (from jupyterlab-server<3,>=2.27.1->jupyterlab->jupyter<2.0.0,>=1.0.0->blackcellmagic) (2.17.0)\n",
            "Requirement already satisfied: json5>=0.9.0 in /usr/local/lib/python3.12/dist-packages (from jupyterlab-server<3,>=2.27.1->jupyterlab->jupyter<2.0.0,>=1.0.0->blackcellmagic) (0.12.1)\n",
            "Requirement already satisfied: jsonschema>=4.18.0 in /usr/local/lib/python3.12/dist-packages (from jupyterlab-server<3,>=2.27.1->jupyterlab->jupyter<2.0.0,>=1.0.0->blackcellmagic) (4.25.1)\n",
            "Requirement already satisfied: requests>=2.31 in /usr/local/lib/python3.12/dist-packages (from jupyterlab-server<3,>=2.27.1->jupyterlab->jupyter<2.0.0,>=1.0.0->blackcellmagic) (2.32.4)\n",
            "Requirement already satisfied: fastjsonschema>=2.15 in /usr/local/lib/python3.12/dist-packages (from nbformat>=5.7->nbconvert->jupyter<2.0.0,>=1.0.0->blackcellmagic) (2.21.2)\n",
            "Requirement already satisfied: wcwidth in /usr/local/lib/python3.12/dist-packages (from prompt-toolkit!=3.0.0,!=3.0.1,<3.1.0,>=2.0.0->jupyter-console->jupyter<2.0.0,>=1.0.0->blackcellmagic) (0.2.13)\n",
            "Requirement already satisfied: ptyprocess in /usr/local/lib/python3.12/dist-packages (from terminado>=0.8.3->notebook->jupyter<2.0.0,>=1.0.0->blackcellmagic) (0.7.0)\n",
            "Requirement already satisfied: soupsieve>1.2 in /usr/local/lib/python3.12/dist-packages (from beautifulsoup4->nbconvert->jupyter<2.0.0,>=1.0.0->blackcellmagic) (2.7)\n",
            "Requirement already satisfied: sniffio>=1.1 in /usr/local/lib/python3.12/dist-packages (from anyio->httpx<1,>=0.25.0->jupyterlab->jupyter<2.0.0,>=1.0.0->blackcellmagic) (1.3.1)\n",
            "Requirement already satisfied: parso<0.9.0,>=0.8.4 in /usr/local/lib/python3.12/dist-packages (from jedi>=0.16->ipython>=7.23.1->ipykernel->jupyter<2.0.0,>=1.0.0->blackcellmagic) (0.8.5)\n",
            "Requirement already satisfied: attrs>=22.2.0 in /usr/local/lib/python3.12/dist-packages (from jsonschema>=4.18.0->jupyterlab-server<3,>=2.27.1->jupyterlab->jupyter<2.0.0,>=1.0.0->blackcellmagic) (25.3.0)\n",
            "Requirement already satisfied: jsonschema-specifications>=2023.03.6 in /usr/local/lib/python3.12/dist-packages (from jsonschema>=4.18.0->jupyterlab-server<3,>=2.27.1->jupyterlab->jupyter<2.0.0,>=1.0.0->blackcellmagic) (2025.4.1)\n",
            "Requirement already satisfied: referencing>=0.28.4 in /usr/local/lib/python3.12/dist-packages (from jsonschema>=4.18.0->jupyterlab-server<3,>=2.27.1->jupyterlab->jupyter<2.0.0,>=1.0.0->blackcellmagic) (0.36.2)\n",
            "Requirement already satisfied: rpds-py>=0.7.1 in /usr/local/lib/python3.12/dist-packages (from jsonschema>=4.18.0->jupyterlab-server<3,>=2.27.1->jupyterlab->jupyter<2.0.0,>=1.0.0->blackcellmagic) (0.27.0)\n",
            "Requirement already satisfied: python-json-logger>=2.0.4 in /usr/local/lib/python3.12/dist-packages (from jupyter-events>=0.11.0->jupyter-server<3,>=2.4.0->jupyterlab->jupyter<2.0.0,>=1.0.0->blackcellmagic) (3.3.0)\n",
            "Requirement already satisfied: pyyaml>=5.3 in /usr/local/lib/python3.12/dist-packages (from jupyter-events>=0.11.0->jupyter-server<3,>=2.4.0->jupyterlab->jupyter<2.0.0,>=1.0.0->blackcellmagic) (6.0.2)\n",
            "Requirement already satisfied: rfc3339-validator in /usr/local/lib/python3.12/dist-packages (from jupyter-events>=0.11.0->jupyter-server<3,>=2.4.0->jupyterlab->jupyter<2.0.0,>=1.0.0->blackcellmagic) (0.1.4)\n",
            "Requirement already satisfied: rfc3986-validator>=0.1.1 in /usr/local/lib/python3.12/dist-packages (from jupyter-events>=0.11.0->jupyter-server<3,>=2.4.0->jupyterlab->jupyter<2.0.0,>=1.0.0->blackcellmagic) (0.1.1)\n",
            "Requirement already satisfied: six>=1.5 in /usr/local/lib/python3.12/dist-packages (from python-dateutil>=2.8.2->jupyter-client>=6.1.12->ipykernel->jupyter<2.0.0,>=1.0.0->blackcellmagic) (1.17.0)\n",
            "Requirement already satisfied: charset_normalizer<4,>=2 in /usr/local/lib/python3.12/dist-packages (from requests>=2.31->jupyterlab-server<3,>=2.27.1->jupyterlab->jupyter<2.0.0,>=1.0.0->blackcellmagic) (3.4.3)\n",
            "Requirement already satisfied: urllib3<3,>=1.21.1 in /usr/local/lib/python3.12/dist-packages (from requests>=2.31->jupyterlab-server<3,>=2.27.1->jupyterlab->jupyter<2.0.0,>=1.0.0->blackcellmagic) (2.5.0)\n",
            "Requirement already satisfied: cffi>=1.0.1 in /usr/local/lib/python3.12/dist-packages (from argon2-cffi-bindings->argon2-cffi->notebook->jupyter<2.0.0,>=1.0.0->blackcellmagic) (1.17.1)\n",
            "Requirement already satisfied: pycparser in /usr/local/lib/python3.12/dist-packages (from cffi>=1.0.1->argon2-cffi-bindings->argon2-cffi->notebook->jupyter<2.0.0,>=1.0.0->blackcellmagic) (2.22)\n",
            "Requirement already satisfied: fqdn in /usr/local/lib/python3.12/dist-packages (from jsonschema[format-nongpl]>=4.18.0->jupyter-events>=0.11.0->jupyter-server<3,>=2.4.0->jupyterlab->jupyter<2.0.0,>=1.0.0->blackcellmagic) (1.5.1)\n",
            "Requirement already satisfied: isoduration in /usr/local/lib/python3.12/dist-packages (from jsonschema[format-nongpl]>=4.18.0->jupyter-events>=0.11.0->jupyter-server<3,>=2.4.0->jupyterlab->jupyter<2.0.0,>=1.0.0->blackcellmagic) (20.11.0)\n",
            "Requirement already satisfied: jsonpointer>1.13 in /usr/local/lib/python3.12/dist-packages (from jsonschema[format-nongpl]>=4.18.0->jupyter-events>=0.11.0->jupyter-server<3,>=2.4.0->jupyterlab->jupyter<2.0.0,>=1.0.0->blackcellmagic) (3.0.0)\n",
            "Requirement already satisfied: rfc3987-syntax>=1.1.0 in /usr/local/lib/python3.12/dist-packages (from jsonschema[format-nongpl]>=4.18.0->jupyter-events>=0.11.0->jupyter-server<3,>=2.4.0->jupyterlab->jupyter<2.0.0,>=1.0.0->blackcellmagic) (1.1.0)\n",
            "Requirement already satisfied: uri-template in /usr/local/lib/python3.12/dist-packages (from jsonschema[format-nongpl]>=4.18.0->jupyter-events>=0.11.0->jupyter-server<3,>=2.4.0->jupyterlab->jupyter<2.0.0,>=1.0.0->blackcellmagic) (1.3.0)\n",
            "Requirement already satisfied: webcolors>=24.6.0 in /usr/local/lib/python3.12/dist-packages (from jsonschema[format-nongpl]>=4.18.0->jupyter-events>=0.11.0->jupyter-server<3,>=2.4.0->jupyterlab->jupyter<2.0.0,>=1.0.0->blackcellmagic) (24.11.1)\n",
            "Requirement already satisfied: lark>=1.2.2 in /usr/local/lib/python3.12/dist-packages (from rfc3987-syntax>=1.1.0->jsonschema[format-nongpl]>=4.18.0->jupyter-events>=0.11.0->jupyter-server<3,>=2.4.0->jupyterlab->jupyter<2.0.0,>=1.0.0->blackcellmagic) (1.2.2)\n",
            "Requirement already satisfied: arrow>=0.15.0 in /usr/local/lib/python3.12/dist-packages (from isoduration->jsonschema[format-nongpl]>=4.18.0->jupyter-events>=0.11.0->jupyter-server<3,>=2.4.0->jupyterlab->jupyter<2.0.0,>=1.0.0->blackcellmagic) (1.3.0)\n",
            "Requirement already satisfied: types-python-dateutil>=2.8.10 in /usr/local/lib/python3.12/dist-packages (from arrow>=0.15.0->isoduration->jsonschema[format-nongpl]>=4.18.0->jupyter-events>=0.11.0->jupyter-server<3,>=2.4.0->jupyterlab->jupyter<2.0.0,>=1.0.0->blackcellmagic) (2.9.0.20250822)\n",
            "The blackcellmagic extension is already loaded. To reload it, use:\n",
            "  %reload_ext blackcellmagic\n"
          ]
        }
      ],
      "source": [
        "!pip install blackcellmagic\n",
        "%load_ext blackcellmagic"
      ]
    },
    {
      "cell_type": "markdown",
      "metadata": {
        "id": "qVeyPNy92hMr"
      },
      "source": [
        "<hr />\n",
        "\n",
        "This lesson is all about style. Style in the general sense of the word is very important. It can have a big effect on how people interact with a program or software. As an example, we can look at the style of data presentation.\n",
        "\n",
        "The [Keeling curve](https://en.wikipedia.org/wiki/Keeling_Curve) is a measure of the carbon dioxide concentration on top of Muana Loa over time. Let's look at a plot of the Keeling curve.\n",
        "\n",
        "<div style=\"width: 500px; margin: auto;\">\n",
        "    \n",
        "![Bad Keeling curve](https://github.com/bebi103a/bebi103a.github.io/blob/main/lessons/04/bad_keeling.png?raw=1)\n",
        "    \n",
        "</div>\n",
        "\n",
        "I contend that this plot is horrible looking. The green color is hard to see. The dashed curve is difficult to interpret. We do not know when the measurements were made. The grid lines are obtrusive. Awful.\n",
        "\n",
        "Lest you think this plot is a ridiculous way of showing the data, I can tell you I have seen plots just like this in the literature. Now, let's look at a nicer plot.\n",
        "\n",
        "<div style=\"width: 500px; margin: auto;\">\n",
        "    \n",
        "![Good Keeling curve](https://github.com/bebi103a/bebi103a.github.io/blob/main/lessons/04/good_keeling.png?raw=1)\n",
        "    \n",
        "</div>\n",
        "\n",
        "\n",
        "Here, it is clear when the measurements were made. The data are clearly visible. The grid lines are not obtrusive. It is generally pleasing to the eye. As a result, the data are easier to interpret. Style matters!\n",
        "\n",
        "(We will talk about how to make beautiful plots like the one here when we talk about data visualization.)\n",
        "\n",
        "The same arguments about style are true for code. Style matters! We already discussed how important documentation is, but having a well-defined style also helps keep your code clean, easy to read, and therefore easier to debug and share.\n",
        "\n",
        "*Note*: If you want to explore the data set of the Keeling Curve, you can get the data from the Muana Loa Observatory [here](https://scrippsco2.ucsd.edu/data/atmospheric_co2/mlo.html)."
      ]
    },
    {
      "cell_type": "markdown",
      "metadata": {
        "id": "9OVwlVZw2hMs"
      },
      "source": [
        "## Coding style in general and Future You\n",
        "\n",
        "The book, *[The Art of Readable Code](http://shop.oreilly.com/product/9780596802301.do)* by Boswell and Foucher is a treasure trove of tips about writing well-styled code. At the beginning of their book, they state **the Fundamental Theorem of Readability**.\n",
        "\n",
        ">Code should be written to minimize the time it would take for someone else to understand it.\n",
        "\n",
        "This is in general good advice, and this is the essential motivation for using the suggestions in PEP8. Before we dive into PEP8, I want to introduce you to the most important person in the world, Future You. When you are writing code, the person at the front of your mind should be Future You. You *really* want to make that person happy. Because as far as coding goes, Future You is really someone else, and you want to minimize the time it takes for Future You to understand what Present You (a.k.a. you) did."
      ]
    },
    {
      "cell_type": "markdown",
      "metadata": {
        "id": "DF63ihHg2hMs"
      },
      "source": [
        "## PEP 8\n",
        "\n",
        "[Guido van Rossum](https://en.wikipedia.org/wiki/Guido_van_Rossum) was the benevolent dictator for life ([BDFL](https://en.wikipedia.org/wiki/Benevolent_dictator_for_life)) of Python. He [stepped down in July of 2018](https://www.mail-archive.com/python-committers@python.org/msg05628.html). Until that time, to get new features or other enhancements into the language, Guido either wrote or (usually) considered a **[Python Enhancement Proposal](https://www.python.org/dev/peps/)**, or a **PEP**.  Each PEP is carefully reviewed, and often there are many iterations with the PEP's author(s). Ultimately, Guido decided if the PEP becomes part of the Python language. Now, that decision is made by the [Python Steering Council](https://www.python.org/dev/peps/pep-8016/), which consists of five members.\n",
        "\n",
        "Perhaps the best-known PEPs are **PEP 8** and PEP 20. This lesson is about PEP 8, but we'll pause for a moment to look at PEP 20 to understand why PEP 8 is important. PEP 20 is \"The Zen of Python.\" You can see its text by running `import this`."
      ]
    },
    {
      "cell_type": "code",
      "execution_count": 28,
      "metadata": {
        "id": "iqYk-avH2hMt"
      },
      "outputs": [],
      "source": [
        "import this"
      ]
    },
    {
      "cell_type": "markdown",
      "metadata": {
        "id": "YaiJsFAv2hMt"
      },
      "source": [
        "These are good ideas for coding practice in general. Importantly, beautiful, simple, readable code is a goal of a programmer, or any scientist writing code. That's where PEP 8 comes in. PEP 8 is the **Python Style Guide**, written by Guido, Barry Warsaw, and Nick Coghlan. You can read its full text in the [Python PEP index](https://www.python.org/dev/peps/pep-0008/), and I recommend you do that.\n",
        "\n",
        "Some people recommend following PEP 8 to the letter, but a prevailing opinion is that PEP 8 should serve as a guide, and its rules may be bent or broken if that aids clarity. Even if you view them as guidelines, you should only stray from them when it is really necessary. Trust me; my life got much better after I started following PEP 8's rules.\n",
        "\n",
        "Note, though, that your code will work just fine if you break PEP 8's rules."
      ]
    },
    {
      "cell_type": "markdown",
      "metadata": {
        "id": "hpjCSn7i2hMu"
      },
      "source": [
        "## Key points of PEP 8\n",
        "\n",
        "PEP 8 is extensive, but here are some key points for you to keep in mind as you are being style-conscious.\n",
        "\n",
        "* Variable names need to be descriptive.\n",
        "* Variable names are all lower case with underscores separating words.\n",
        "* Do not name variables `l`, `O`, or `I` because they are hard to distinguish from ones and zeros.\n",
        "* Function names are lower case and may use underscores.\n",
        "* Class names are in PascalCase, where every word in the name of the class has the first letter capitalized and there are no spaces between words. (We are not explicitly covering class in thie course.) You will come across PascalCase objects in many packages, which usually means you are instantiating a class.\n",
        "* Module names are short and lower case. Underscores should be avoided unless necessary for readability.\n",
        "* Lines are maximally 79 characters long.\n",
        "* Lines in doc strings are maximally 72 characters long.\n",
        "* Avoid in-line comments; put the comment directly above the code.\n",
        "* Avoid excessive comments that state the obvious.\n",
        "* Generally, put single spaces around binary operators, unless omitting space improves readability.  For example, `x**2 + y**2`. Low precedence operators should have space.\n",
        "* Assignment operators should always have single spaces around them *except* when in keyword arguments. E.g., no space in `f(x, y=4)`.\n",
        "* Put spaces after commas in function definitions and calls. This also applies for lists, tuples, NumPy arrays, etc.\n",
        "* Avoid excessive spaces within parentheses, braces, and brackets.\n",
        "* Use a single blank line to separate logical sections of your code.\n",
        "* Put two blank lines between functions in a `.py` file.\n",
        "* Put all import statements at the top of the file, importing from one module per line.\n",
        "\n",
        "Perhaps the rule that is bent the most is the line width rule (but do not break the line width rule for doc strings!). Sometimes, it is better to avoid a line break for clarity, but very long lines are a big no-no!"
      ]
    },
    {
      "cell_type": "markdown",
      "metadata": {
        "id": "n7VXenth2hMu"
      },
      "source": [
        "## Some examples of PEP 8-ified code\n",
        "\n",
        "Let's now look at some examples of code adhering to PEP 8 and code that does not. We'll start with some code we used before to find start codons."
      ]
    },
    {
      "cell_type": "code",
      "execution_count": 29,
      "metadata": {
        "colab": {
          "base_uri": "https://localhost:8080/"
        },
        "id": "l7C5rU7q2hMv",
        "outputId": "0adbd8e2-391f-4f55-d93b-fa18e1b389e6"
      },
      "outputs": [
        {
          "output_type": "stream",
          "name": "stdout",
          "text": [
            "The start codon starts at index 10\n"
          ]
        }
      ],
      "source": [
        "seq='AUCUGUACUAAUGCUCAGCACGACGUACG'\n",
        "c='AUG'  # This is the start codon\n",
        "i =0  # Initialize sequence index\n",
        "while seq[ i : i + 3 ]!=c:\n",
        "    i+=1\n",
        "\n",
        "print('The start codon starts at index', i)"
      ]
    },
    {
      "cell_type": "markdown",
      "metadata": {
        "id": "PlmoHZS_2hMv"
      },
      "source": [
        "Compare that to the PEP 8-ified version."
      ]
    },
    {
      "cell_type": "code",
      "execution_count": 30,
      "metadata": {
        "colab": {
          "base_uri": "https://localhost:8080/"
        },
        "id": "mWxf03dU2hMv",
        "outputId": "976ce28c-7a2f-4ce8-b7ce-15946c574f6d"
      },
      "outputs": [
        {
          "output_type": "stream",
          "name": "stdout",
          "text": [
            "The start codon starts at index 10\n"
          ]
        }
      ],
      "source": [
        "start_codon = 'AUG'\n",
        "\n",
        "# Initialize sequence index for while loop\n",
        "i = 0\n",
        "\n",
        "# Scan sequence until we hit the start codon\n",
        "while seq[i:i+3] != start_codon:\n",
        "    i += 1\n",
        "\n",
        "print('The start codon starts at index', i)"
      ]
    },
    {
      "cell_type": "markdown",
      "metadata": {
        "id": "ElFdDdLF2hMw"
      },
      "source": [
        "The descriptive variable names, the spacing, the appropriate comments all make it much more readable.\n",
        "\n",
        "Here's another example, the dictionary mapping single-letter residue symbols to the three-letter equivalents."
      ]
    },
    {
      "cell_type": "code",
      "execution_count": 31,
      "metadata": {
        "id": "Ec1Eh-SH2hMw"
      },
      "outputs": [],
      "source": [
        "aa = { 'A' : 'Ala' , 'R' : 'Arg' , 'N' : 'Asn' , 'D' : 'Asp' , 'C' : 'Cys' , 'Q' : 'Gln' , 'E' : 'Glu' , 'G' : 'Gly' , 'H' : 'His' , 'I' : 'Ile' , 'L' : 'Leu' , 'K' : 'Lys' , 'M' : 'Met' , 'F' : 'Phe' , 'P' : 'Pro' , 'S' : 'Ser' , 'T' : 'Thr' , 'W' : 'Trp' , 'Y' : 'Tyr' , 'V' : 'Val' }"
      ]
    },
    {
      "cell_type": "markdown",
      "metadata": {
        "id": "SCdsiPfn2hMx"
      },
      "source": [
        "My god, that is awful.  The PEP 8 version, where we break lines to make things clear, is so much more readable."
      ]
    },
    {
      "cell_type": "code",
      "execution_count": 32,
      "metadata": {
        "id": "cVZxEh4k2hMx"
      },
      "outputs": [],
      "source": [
        "aa = {\n",
        "    \"A\": \"Ala\",\n",
        "    \"R\": \"Arg\",\n",
        "    \"N\": \"Asn\",\n",
        "    \"D\": \"Asp\",\n",
        "    \"C\": \"Cys\",\n",
        "    \"Q\": \"Gln\",\n",
        "    \"E\": \"Glu\",\n",
        "    \"G\": \"Gly\",\n",
        "    \"H\": \"His\",\n",
        "    \"I\": \"Ile\",\n",
        "    \"L\": \"Leu\",\n",
        "    \"K\": \"Lys\",\n",
        "    \"M\": \"Met\",\n",
        "    \"F\": \"Phe\",\n",
        "    \"P\": \"Pro\",\n",
        "    \"S\": \"Ser\",\n",
        "    \"T\": \"Thr\",\n",
        "    \"W\": \"Trp\",\n",
        "    \"Y\": \"Tyr\",\n",
        "    \"V\": \"Val\",\n",
        "}"
      ]
    },
    {
      "cell_type": "markdown",
      "metadata": {
        "id": "iXi-Eevt2hMy"
      },
      "source": [
        "For a final example, consider the quadratic formula."
      ]
    },
    {
      "cell_type": "code",
      "execution_count": 33,
      "metadata": {
        "id": "gXsfFmYc2hMy"
      },
      "outputs": [],
      "source": [
        "def qf(a, b, c):\n",
        "    return -(b-np.sqrt(b**2-4*a*c))/2/a, (-b-np.sqrt(b**2-4*a*c))/2/a"
      ]
    },
    {
      "cell_type": "markdown",
      "metadata": {
        "id": "wTR3VlEc2hMy"
      },
      "source": [
        "It works just fine."
      ]
    },
    {
      "cell_type": "code",
      "execution_count": 35,
      "metadata": {
        "colab": {
          "base_uri": "https://localhost:8080/",
          "height": 176
        },
        "id": "XuPd4hkR2hMy",
        "outputId": "bf5921e9-d2d1-4da1-cb7e-a84512cfb944"
      },
      "outputs": [
        {
          "output_type": "error",
          "ename": "NameError",
          "evalue": "name 'quadratic_roots' is not defined",
          "traceback": [
            "\u001b[0;31m---------------------------------------------------------------------------\u001b[0m",
            "\u001b[0;31mNameError\u001b[0m                                 Traceback (most recent call last)",
            "\u001b[0;32m/tmp/ipython-input-715225103.py\u001b[0m in \u001b[0;36m<cell line: 0>\u001b[0;34m()\u001b[0m\n\u001b[1;32m      1\u001b[0m \u001b[0;32mimport\u001b[0m \u001b[0mnumpy\u001b[0m \u001b[0;32mas\u001b[0m \u001b[0mnp\u001b[0m\u001b[0;34m\u001b[0m\u001b[0;34m\u001b[0m\u001b[0m\n\u001b[1;32m      2\u001b[0m \u001b[0;34m\u001b[0m\u001b[0m\n\u001b[0;32m----> 3\u001b[0;31m \u001b[0mquadratic_roots\u001b[0m\u001b[0;34m(\u001b[0m\u001b[0;36m2\u001b[0m\u001b[0;34m,\u001b[0m \u001b[0;34m-\u001b[0m\u001b[0;36m3\u001b[0m\u001b[0;34m,\u001b[0m \u001b[0;34m-\u001b[0m\u001b[0;36m9\u001b[0m\u001b[0;34m)\u001b[0m\u001b[0;34m\u001b[0m\u001b[0;34m\u001b[0m\u001b[0m\n\u001b[0m",
            "\u001b[0;31mNameError\u001b[0m: name 'quadratic_roots' is not defined"
          ]
        }
      ],
      "source": [
        "import numpy as np\n",
        "\n",
        "quadratic_roots(2, -3, -9)"
      ]
    },
    {
      "cell_type": "markdown",
      "metadata": {
        "id": "rWd6rOWA2hMz"
      },
      "source": [
        "But it is illegible.  Let's do a  PEP 8-ified version."
      ]
    },
    {
      "cell_type": "code",
      "execution_count": null,
      "metadata": {
        "id": "zv_LPrQm2hMz"
      },
      "outputs": [],
      "source": [
        "def quadratic_roots(a, b, c):\n",
        "    \"\"\"Real roots of a second order polynomial.\"\"\"\n",
        "    # Compute square root of the discriminant\n",
        "    sqrt_disc = np.sqrt(b**2 - 4*a*c)\n",
        "\n",
        "    # Compute two roots\n",
        "    root_1 = (-b + sqrt_disc) / (2*a)\n",
        "    root_2 = (-b - sqrt_disc) / (2*a)\n",
        "\n",
        "    return root_1, root_2"
      ]
    },
    {
      "cell_type": "markdown",
      "metadata": {
        "id": "wayWouwP2hMz"
      },
      "source": [
        "And this also works!"
      ]
    },
    {
      "cell_type": "code",
      "execution_count": null,
      "metadata": {
        "id": "_zKyPMRq2hMz"
      },
      "outputs": [],
      "source": [
        "quadratic_roots(2, -3, -9)"
      ]
    },
    {
      "cell_type": "markdown",
      "metadata": {
        "id": "okStS7E12hM0"
      },
      "source": [
        "## Line breaks\n",
        "\n",
        "PEP 8 does not comment extensively on line breaks. I have found that choosing how to do line breaks is often one of the more challenging aspects of making readable code. The Boswell and Foucher book spends lots of space discussing it. There are lots of considerations for choosing line breaks. One of my favorite discussions on this is [this blog post from Trey Hunner](http://treyhunner.com/2017/07/craft-your-python-like-poetry/). It's definitely worth a read, and is about as concise as anything I could put here in this lesson."
      ]
    },
    {
      "cell_type": "markdown",
      "metadata": {
        "id": "_OBPVl4o2hM0"
      },
      "source": [
        "## Black\n",
        "\n",
        "I have found [Black](https://black.readthedocs.io/) to be a very useful tool for style. It's self-ascribed adjective is \"uncompromising.\" Black does not pay any attention at all to the formatting you chose, but will apply its style to your code. It adheres quite closely to PEP 8, with one of the most notable differences being a default line width of 88 characters. Code that is formatted using Black is said to be \"blackened.\"\n",
        "\n",
        "The Black package is installable with conda, and you should have it already installed. There are several packages for using Black in Jupyter notebooks. I prefer blackcellmagic, which you should also have installed. *Note, though, that Black and blackcellmagic will not work in Google Colab.*\n",
        "\n",
        "To use Black to format a cell after installing `blackcellmagic`, you simply put `%%black` at the top of the cell. Of course, you have to first load the Black extension using `%load_ext blackcellmagic`, which I did in the import cell at the top of this notebook.\n",
        "\n",
        "When you put `%%black` at the top of a cell and execute the cell, the code is reformatted and the `%%black` text disappears. Very slick! You do need to execute the cell again after it is reformatted, though, to have the code run, since executing a cell with `%%black` at the top of it only reformats it.\n",
        "\n",
        "Below is what I get when I execute a code cell that had our ugly code from before with `%%black`.\n",
        "\n",
        "**Before**:\n",
        "```python\n",
        "%%black\n",
        "seq='AUCUGUACUAAUGCUCAGCACGACGUACG'\n",
        "c='AUG'  # This is the start codon\n",
        "i =0  # Initialize sequence index\n",
        "while seq[ i : i + 3 ]!=c:\n",
        "    i+=1\n",
        "\n",
        "print('The start codon starts at index', i)\n",
        "```\n",
        "\n",
        "**After**:"
      ]
    },
    {
      "cell_type": "code",
      "execution_count": null,
      "metadata": {
        "id": "pUOxCaTi2hM0"
      },
      "outputs": [],
      "source": [
        "seq = \"AUCUGUACUAAUGCUCAGCACGACGUACG\"\n",
        "c = \"AUG\"  # This is the start codon\n",
        "i = 0  # Initialize sequence index\n",
        "while seq[i : i + 3] != c:\n",
        "    i += 1\n",
        "\n",
        "print(\"The start codon starts at index\", i)"
      ]
    },
    {
      "cell_type": "markdown",
      "metadata": {
        "id": "g4SoKslo2hM1"
      },
      "source": [
        "Note that Black switched from single quotes to double quotes and put spaces around the operators. However, it did not mess with comments, as it tends not to do that. Let's see what happens when we blacken our PEP 8 adherent version of that code.\n",
        "\n",
        "**Before**:\n",
        "```python\n",
        "%%black\n",
        "start_codon = 'AUG'\n",
        "\n",
        "# Initialize sequence index for while loop\n",
        "i = 0\n",
        "\n",
        "# Scan sequence until we hit the start codon\n",
        "while seq[i:i+3] != start_codon:\n",
        "    i += 1\n",
        "    \n",
        "print('The start codon starts at index', i)\n",
        "```\n",
        "\n",
        "**After**:"
      ]
    },
    {
      "cell_type": "code",
      "execution_count": null,
      "metadata": {
        "id": "i8OC-qP62hM1"
      },
      "outputs": [],
      "source": [
        "start_codon = \"AUG\"\n",
        "\n",
        "# Initialize sequence index for while loop\n",
        "i = 0\n",
        "\n",
        "# Scan sequence until we hit the start codon\n",
        "while seq[i : i + 3] != start_codon:\n",
        "    i += 1\n",
        "\n",
        "print(\"The start codon starts at index\", i)"
      ]
    },
    {
      "cell_type": "markdown",
      "metadata": {
        "id": "xMxUWVbw2hM1"
      },
      "source": [
        "Black liked must of what we did, but it changed the spacing in our slicing of `seq`. I personally do not like this choice by Black, but [Black is strictly adhering to PEP 8 on this](https://black.readthedocs.io/en/stable/the_black_code_style/current_style.html#slices). So, I'll accept it."
      ]
    },
    {
      "cell_type": "markdown",
      "metadata": {
        "id": "-UCOrPQf2hM1"
      },
      "source": [
        "## This is really important.\n",
        "\n",
        "I want to reiterate how important this is. Most programmers follow these rules closely, but most scientists do not. I can't tell you how many software packages written by scientists that I have encountered and found to be almost completely unreadable. Many of your colleagues will pay little attention to style. **You should.** For all that is good in the world, Future You's well-being depends on it."
      ]
    },
    {
      "cell_type": "code",
      "source": [
        "from google.colab import files\n",
        "\n",
        "uploaded = files.upload()  # choose resume.pdf or resume.jpg\n"
      ],
      "metadata": {
        "id": "mcBSaN6d34iL"
      },
      "execution_count": null,
      "outputs": []
    },
    {
      "cell_type": "markdown",
      "metadata": {
        "id": "dSsm8OPP2hM1"
      },
      "source": [
        "## Computing environment"
      ]
    },
    {
      "cell_type": "code",
      "execution_count": null,
      "metadata": {
        "id": "5O9sqMJw2hM2"
      },
      "outputs": [],
      "source": [
        "from google.colab import files\n",
        "\n",
        "uploaded = files.upload()  # choose resume.pdf or resume.jpg\n"
      ]
    },
    {
      "cell_type": "code",
      "source": [
        "import pdfplumber\n",
        "from pdf2image import convert_from_path\n",
        "from PIL import Image\n",
        "import pytesseract\n",
        "import os\n",
        "\n",
        "def extract_text_pdf(path):\n",
        "    \"\"\"Extract text from PDF. If text is missing, fallback to OCR.\"\"\"\n",
        "    text = \"\"\n",
        "    with pdfplumber.open(path) as pdf:\n",
        "        for page in pdf.pages:\n",
        "            t = page.extract_text()\n",
        "            if t:\n",
        "                text += t + \"\\n\"\n",
        "    if text.strip():\n",
        "        return text.strip()\n",
        "\n",
        "    # Fallback OCR for scanned PDFs\n",
        "    images = convert_from_path(path)\n",
        "    for img in images:\n",
        "        text += pytesseract.image_to_string(img) + \"\\n\"\n",
        "    return text.strip()\n",
        "\n",
        "def extract_text_image(path):\n",
        "    \"\"\"Extract text from image formats (jpg, png, etc.).\"\"\"\n",
        "    img = Image.open(path)\n",
        "    return pytesseract.image_to_string(img).strip()\n",
        "\n",
        "def extract_text_txt(path):\n",
        "    \"\"\"Read plain text file.\"\"\"\n",
        "    with open(path, \"r\", encoding=\"utf-8\", errors=\"ignore\") as f:\n",
        "        return f.read().strip()\n",
        "\n",
        "def extract_text(path):\n",
        "    \"\"\"Auto-detect file type and extract text.\"\"\"\n",
        "    ext = os.path.splitext(path)[-1].lower()\n",
        "    if ext == \".pdf\":\n",
        "        return extract_text_pdf(path)\n",
        "    elif ext in (\".jpg\", \".jpeg\", \".png\", \".tiff\"):\n",
        "        return extract_text_image(path)\n",
        "    elif ext == \".txt\":\n",
        "        return extract_text_txt(path)\n",
        "    else:\n",
        "        raise ValueError(f\"Unsupported file type: {ext}\")\n"
      ],
      "metadata": {
        "id": "fALsq4Fi4cpJ"
      },
      "execution_count": null,
      "outputs": []
    },
    {
      "cell_type": "code",
      "source": [
        "# Change \"resume.pdf\" to the file name you uploaded\n",
        "filename = list(uploaded.keys())[0]\n",
        "text = extract_text(filename)\n",
        "\n",
        "print(\"✅ Extracted text from:\", filename)\n",
        "print(\"-\" * 60)\n",
        "print(text[:1000])  # show first 1000 characters\n"
      ],
      "metadata": {
        "colab": {
          "base_uri": "https://localhost:8080/"
        },
        "id": "qPi9IqX66Wbx",
        "outputId": "5928586d-eb2f-4bdc-cf0d-d48beb637fd2"
      },
      "execution_count": 36,
      "outputs": [
        {
          "output_type": "stream",
          "name": "stdout",
          "text": [
            "✅ Extracted text from: sample_resume (2).pdf\n",
            "------------------------------------------------------------\n",
            "John Doe\n",
            "Email: johndoe@example.com | Phone: +91 98765 43210\n",
            "LinkedIn: linkedin.com/in/johndoe | GitHub: github.com/johndoe\n",
            "Professional Summary\n",
            "Results-driven software engineer with 3+ years of experience in developing scalable web\n",
            "applications and working with modern technologies. Skilled in Python, C++, and SQL.\n",
            "Skills\n",
            "Python, C++, SQL, JavaScript, React, Node.js, Git, Docker\n",
            "Work Experience\n",
            "Software Engineer ABC Tech Solutions Jan 2022 – Present\n",
            "- Developed and optimized REST APIs in Python\n",
            "- Improved database performance by 20% using SQL indexing\n",
            "- Collaborated with cross-functional teams in Agile environment\n",
            "Junior Developer XYZ Innovations Jul 2020 – Dec 2021\n",
            "- Assisted in developing frontend features using React\n",
            "- Wrote unit tests and maintained CI/CD pipelines\n",
            "Education\n",
            "B.Tech in Computer Science ABC University 2016 – 2020 CGPA: 8.5/10\n",
            "Projects\n",
            "Online Resume Parser: Built a resume parser using Python, spaCy, and regex to extract\n",
            "candidate details.\n",
            "Task Manager App: Developed a\n"
          ]
        }
      ]
    }
  ],
  "metadata": {
    "anaconda-cloud": {},
    "kernelspec": {
      "display_name": "Python 3 (ipykernel)",
      "language": "python",
      "name": "python3"
    },
    "language_info": {
      "codemirror_mode": {
        "name": "ipython",
        "version": 3
      },
      "file_extension": ".py",
      "mimetype": "text/x-python",
      "name": "python",
      "nbconvert_exporter": "python",
      "pygments_lexer": "ipython3",
      "version": "3.9.12"
    },
    "colab": {
      "provenance": []
    }
  },
  "nbformat": 4,
  "nbformat_minor": 0
}